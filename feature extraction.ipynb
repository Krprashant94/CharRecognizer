{
 "cells": [
  {
   "cell_type": "code",
   "execution_count": 1,
   "metadata": {},
   "outputs": [],
   "source": [
    "# pip install opencv-python\n",
    "# pip install opencv-contrib-python\n",
    "\n",
    "from time import time\n",
    "from numpy import uint8\n",
    "from numpy.random import rand\n",
    "import cv2\n",
    "import os\n",
    "import numpy as np"
   ]
  },
  {
   "cell_type": "code",
   "execution_count": 2,
   "metadata": {},
   "outputs": [],
   "source": [
    "class Extraction:\n",
    "    def __init__(self,):\n",
    "#         dimension of feature vactor is 300 ie. We can extrct 300 feture points maximum which is higher then 182 which is MAX \n",
    "        self.max_feture = 10\n",
    "        \n",
    "    def extract(self):\n",
    "        i = 0\n",
    "        charecter = []\n",
    "        lable = []\n",
    "        for i in range(1, 1017):\n",
    "#             processing each file \n",
    "#               i.e we are processing file such that We read first image in each class(62), do to second image in each class, then third image in each class \n",
    "            for j in range(1, 63):\n",
    "#         Processing each folder\n",
    "                folder = str(j);\n",
    "                if(len(folder) == 1):\n",
    "                    folder = \"00\" + folder\n",
    "                if(len(folder) == 2):\n",
    "                    folder = \"0\" + folder\n",
    "                file = str(i)\n",
    "                if(len(file) == 1):\n",
    "                    file = \"0000\" + file\n",
    "                if(len(file) == 2):\n",
    "                    file = \"000\" + file\n",
    "                if(len(file) == 3):\n",
    "                    file = \"00\" + file\n",
    "                if(len(file) == 4):\n",
    "                    file = \"0\" + file\n",
    "                    \n",
    "                image = \"English Font Image\\Sample\"+ folder +\"\\img\"+ folder +\"-\"+ file +\".png\"\n",
    "#                 Path of image 1016*62 image \n",
    "\n",
    "                feture = self.__sift(image)\n",
    "                keypoint = []\n",
    "                f = 0;\n",
    "                for point in feture:\n",
    "#                     getting the values of keypoint\n",
    "                    keypoint.append([point.pt[0], point.pt[1], point.size, point.angle, point.response, point.octave])\n",
    "                    f += 1\n",
    "            \n",
    "                for cnt in range(f, self.max_feture):\n",
    "#                     feeding 0 to rest of feature for making same size matrix i.e 20. (ref : self.max_feture); Keras takes same size input\n",
    "                    keypoint.append([0, 0, 0, 0, 0, 0])\n",
    "    \n",
    "                keypoint.sort(key=lambda x:x[2])\n",
    "        \n",
    "                while len(keypoint) > self.max_feture:\n",
    "                    keypoint.pop(0)\n",
    "\n",
    "#                 appending the keypoint data to cherecter verible \n",
    "                charecter.append(keypoint[:])\n",
    "#                 lable [62x1] matrix ; 1 for in class 0 for not\n",
    "                lable_tmp = [0 for c in range(62)]\n",
    "                lable_tmp[j-1] = 1\n",
    "                lable.append(lable_tmp[:])\n",
    "#             End of Image\n",
    "\n",
    "            if(i % 127 == 0):\n",
    "#                 For every 16 image data dump in \"charecter\" veriable will save in file \n",
    "#                 So that the matrix formed is  (992, 300, 7) in case of 16; (496, 300, 7) in case of 8\n",
    "                self.__save(str(charecter), str(lable), str(int(i/127))) \n",
    "#                 Clear the memory\n",
    "                charecter = []\n",
    "                lable = []\n",
    "\n",
    "    def __save(self, text, lable, lable_counter):\n",
    "        f = open(\"extracted\"+os.sep+\"data_\"+lable_counter, 'w')\n",
    "        f.write(text)\n",
    "        f.close()\n",
    "        \n",
    "        f = open(\"extracted\"+os.sep+\"lable_\"+lable_counter, 'w')\n",
    "        f.write(lable)\n",
    "        f.close()\n",
    "        \n",
    "    def __sift(self, path):\n",
    "        img = cv2.imread(path)\n",
    "        surf = cv2.xfeatures2d.SIFT_create()\n",
    "        kp, des = surf.detectAndCompute(img,None)\n",
    "        return kp\n",
    "    "
   ]
  },
  {
   "cell_type": "code",
   "execution_count": 3,
   "metadata": {
    "scrolled": true
   },
   "outputs": [],
   "source": [
    "e = Extraction()\n",
    "e.extract()"
   ]
  },
  {
   "cell_type": "code",
   "execution_count": 4,
   "metadata": {},
   "outputs": [],
   "source": [
    "del e"
   ]
  },
  {
   "cell_type": "code",
   "execution_count": null,
   "metadata": {},
   "outputs": [],
   "source": []
  },
  {
   "cell_type": "code",
   "execution_count": null,
   "metadata": {},
   "outputs": [],
   "source": []
  }
 ],
 "metadata": {
  "kernelspec": {
   "display_name": "Python 3",
   "language": "python",
   "name": "python3"
  },
  "language_info": {
   "codemirror_mode": {
    "name": "ipython",
    "version": 3
   },
   "file_extension": ".py",
   "mimetype": "text/x-python",
   "name": "python",
   "nbconvert_exporter": "python",
   "pygments_lexer": "ipython3",
   "version": "3.6.2"
  }
 },
 "nbformat": 4,
 "nbformat_minor": 2
}
