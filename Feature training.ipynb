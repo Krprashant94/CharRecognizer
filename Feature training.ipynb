{
 "cells": [
  {
   "cell_type": "code",
   "execution_count": null,
   "metadata": {},
   "outputs": [],
   "source": [
    "from keras.models import Sequential, load_model\n",
    "from keras.optimizers import Adam\n",
    "from keras.layers import Flatten, Conv2D, MaxPooling1D, LSTM, RNN, Dropout\n",
    "from keras.layers import Reshape, Lambda, BatchNormalization\n",
    "from keras.layers.core import Dense\n",
    "from keras.layers.convolutional import Convolution2D, MaxPooling2D, ZeroPadding2D\n",
    "from sklearn.preprocessing import scale\n",
    "\n",
    "import numpy as np\n",
    "import cv2\n",
    "import os\n",
    "import re"
   ]
  },
  {
   "cell_type": "code",
   "execution_count": null,
   "metadata": {},
   "outputs": [],
   "source": [
    "class Nural_network:\n",
    "    def __init__(self, ):\n",
    "#         Total Label available\n",
    "        self.labels_class = np.array(['0', '1', '2', '3', '4', '5', '6', '7', '8', '9', 'A', 'B', 'C', 'D', 'E', 'F', 'G', 'H', 'I', 'J', 'K', 'L', 'M', 'N', 'O', 'P', 'Q', 'R', 'S', 'T', 'U', 'V', 'W', 'X', 'Y', 'Z', 'a', 'b', 'c', 'd', 'e', 'f', 'g', 'h', 'i', 'j', 'k', 'l', 'm', 'n', 'o', 'p', 'q', 'r', 's', 't', 'u', 'v', 'w', 'x', 'y', 'z'])\n",
    "        \n",
    "#         Number of class\n",
    "        self.class_count = 62\n",
    "    \n",
    "#         No of sample in each class\n",
    "        self.sample_count = 1016\n",
    "    \n",
    "#         Obsoleted; privously used in open cv\n",
    "        self.sample_dimension = 128\n",
    "    \n",
    "#         Status flag\n",
    "        self.isModel = False\n",
    "        self.isTrained = False\n",
    "        \n",
    "#         Data\n",
    "        self.train_data, self.train_labels = [],[]\n",
    "        print(\"__init__\")\n",
    "    \n",
    "    def getTrainingData(self, root, i):\n",
    "#         read training file; feature data\n",
    "        f = open(root+os.sep+\"data_\"+i, 'r')\n",
    "        val = f.read()\n",
    "        self.train_data = np.array(eval(val))\n",
    "        f.close()\n",
    "        \n",
    "#         corresponding label \n",
    "        f = open(root+os.sep+\"lable_\"+i, 'r')\n",
    "        lab = f.read()\n",
    "        self.train_labels = np.array(eval(lab))\n",
    "        f.close()\n",
    "        \n",
    "    def model(self):\n",
    "#         TODO: Need to improve model\n",
    "#         LSTM may give desired output in higher epoc\n",
    "        if not self.isModel:\n",
    "            self.isModel = True\n",
    "            self.model = Sequential()\n",
    "            self.model.add(Conv2D(256, (2, 2),  input_shape=(5, 2, 6), activation='relu'))\n",
    "            self.model.add(Reshape(target_shape=((8, 128)), name='reshape'))\n",
    "            self.model.add(LSTM(128, return_sequences=True))\n",
    "            self.model.add(Flatten())\n",
    "            self.model.add(Dense(self.class_count, activation='softmax'))\n",
    "            self.model.compile(loss='categorical_crossentropy', optimizer='rmsprop', metrics=['accuracy'])\n",
    "    \n",
    "    def __shape(self, data):\n",
    "#         Shape data in range -1 to 1\n",
    "        for i in range(0, 6):\n",
    "            data[:, :, i] = scale( data[:, :, i], axis=0, with_mean=True, with_std=True, copy=True )\n",
    "        return np.reshape(data, (len(data),5,2,6))\n",
    "    \n",
    "    def Train(self, path='extracted'):\n",
    "        self.isTrained = True\n",
    "        for i in range(1, 128):\n",
    "#             Total 64 file 1016/8 = 127\n",
    "            print(\"Trainning Set : \"+str(i))\n",
    "    \n",
    "#             Load the training data \n",
    "            self.getTrainingData(path, str(i))\n",
    "            self.train_data = self.__shape(self.train_data)\n",
    "            print(self.train_data.shape)\n",
    "            \n",
    "            self.model.fit(self.train_data, self.train_labels, epochs=100, batch_size=10)\n",
    "            self.save()\n",
    "        \n",
    "    def load(self, path=\"feature.bin\"):\n",
    "#         Load the saved model\n",
    "        self.isTrained = True\n",
    "        self.isModel = True\n",
    "        self.model = load_model(path)\n",
    "        \n",
    "    def save(self, path=\"feature.bin\"):\n",
    "#         Save the model\n",
    "        self.model.save(path)\n",
    "    \n",
    "    def __key_func(self, x):\n",
    "#         Function for sorting file in directory python \"os\"\n",
    "        pat=re.compile(\"(\\d+)\\D*$\")\n",
    "        mat=pat.search(os.path.split(x)[-1]) # match last group of digits\n",
    "        if mat is None:\n",
    "            return x\n",
    "        return \"{:>10}\".format(mat.group(1)) # right align to 10 digits."
   ]
  },
  {
   "cell_type": "code",
   "execution_count": null,
   "metadata": {},
   "outputs": [],
   "source": [
    "nn = Nural_network()"
   ]
  },
  {
   "cell_type": "code",
   "execution_count": null,
   "metadata": {
    "scrolled": true
   },
   "outputs": [],
   "source": [
    "# nn.load()\n",
    "nn.model()"
   ]
  },
  {
   "cell_type": "code",
   "execution_count": null,
   "metadata": {
    "scrolled": false
   },
   "outputs": [],
   "source": [
    "nn.Train()"
   ]
  },
  {
   "cell_type": "code",
   "execution_count": null,
   "metadata": {},
   "outputs": [],
   "source": [
    "# nn.save()"
   ]
  },
  {
   "cell_type": "code",
   "execution_count": null,
   "metadata": {},
   "outputs": [],
   "source": [
    "print(nn.model.summary())"
   ]
  },
  {
   "cell_type": "code",
   "execution_count": null,
   "metadata": {},
   "outputs": [],
   "source": []
  },
  {
   "cell_type": "code",
   "execution_count": null,
   "metadata": {},
   "outputs": [],
   "source": []
  },
  {
   "cell_type": "code",
   "execution_count": null,
   "metadata": {},
   "outputs": [],
   "source": []
  },
  {
   "cell_type": "code",
   "execution_count": null,
   "metadata": {},
   "outputs": [],
   "source": []
  }
 ],
 "metadata": {
  "kernelspec": {
   "display_name": "Python 3",
   "language": "python",
   "name": "python3"
  },
  "language_info": {
   "codemirror_mode": {
    "name": "ipython",
    "version": 3
   },
   "file_extension": ".py",
   "mimetype": "text/x-python",
   "name": "python",
   "nbconvert_exporter": "python",
   "pygments_lexer": "ipython3",
   "version": "3.6.2"
  }
 },
 "nbformat": 4,
 "nbformat_minor": 2
}
